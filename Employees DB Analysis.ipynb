{
 "cells": [
  {
   "cell_type": "markdown",
   "metadata": {},
   "source": [
    "<h2 style='color: darkmagenta; font-weight: bold;'> The following activities were performed to accomplish this research project: </h2>"
   ]
  },
  {
   "cell_type": "markdown",
   "metadata": {},
   "source": [
    "<hr style='border: 1px solid darkorchid;'>\n",
    "<h3>Data Modeling</h3>\n",
    "<ul style=\"line-height:33px\">\n",
    "The layouts of CSV files were checked to understand how should be the entities structure:\n",
    "      <li style=\"line-height:25px; text-align:justify\">tables names;</li>\n",
    "      <li style=\"line-height:25px; text-align:justify\">fields names;</li>\n",
    "      <li style=\"line-height:25px; text-align:justify\">datatypes; </li>\n",
    "      <li style=\"line-height:25px; text-align:justify\">sizes;</li>\n",
    "      <li style=\"line-height:25px; text-align:justify\">primary keys;</li>\n",
    "      <li style=\"line-height:25px; text-align:justify\">foreign keys;</li>\n",
    "      <li style=\"line-height:25px; text-align:justify\">tables relationships.</li>\n",
    "</ul>\n",
    "<h3>Data Engineering</h3>\n",
    "<ul style=\"line-height:33px\">\n",
    "      <li style=\"line-height:25px; text-align:justify\">The information collected on the step above was the base to create a graphical presentation of entities and their relationships, that means the Entity-Relationship Diagram (ERD). The image has been saved on ERD_EmployeesDB.png file;</li>\n",
    "      <li style=\"line-height:25px; text-align:justify\">A new physical database was created and named employeeDB;</li>\n",
    "      <li style=\"line-height:25px; text-align:justify\">The SQL schema was extracted from the tool used to design the ERD and stored in a file named schema.sql;</li>\n",
    "      <li style=\"line-height:25px; text-align:justify\">The SQL schema was adjusted to drop all tables if they exist and also to import all CSV files in batch mode, better than manually import one by one;</li>\n",
    "      <li style=\"line-height:25px; text-align:justify\">In the end, the SQL script was able to recreate the database structure and import the files in one shot, without any error.</li>\n",
    "</ul>\n",
    "<h3>Data Analysis</h3>\n",
    "<ul style=\"line-height:33px\">\n",
    "      <li style=\"line-height:25px; text-align:justify\">One SQL script was created to store all queries required to the data analysis (DataAnalysis.sql);</li>\n",
    "      <li style=\"line-height:25px; text-align:justify\">During the analysis, something incoherent was detected between the salaries amount and the titles (or job position). The average salary of Engineer, Senior Engineer, and Assistant Engineer are pratically the same. A similar situation was found for Staff and Senior Staff, considering that these two positions have the highest average salaries in the company. Due to this intriguing discovery, a jupyter notebook with a bar chart of average salary by title was made to present to the chief.</li>\n",
    "</ul>\n",
    "<hr style='border: 1px solid darkorchid;'>"
   ]
  },
  {
   "cell_type": "code",
   "execution_count": 1,
   "metadata": {},
   "outputs": [],
   "source": [
    "# Import dependencies\n",
    "import matplotlib\n",
    "import pandas as pd\n",
    "from sqlalchemy import create_engine\n",
    "from dbconfig import dialect, dbname, dbuser, psswd, host, port\n",
    "from matplotlib import style\n",
    "style.use('Solarize_Light2')\n",
    "import matplotlib.pyplot as plt"
   ]
  },
  {
   "cell_type": "code",
   "execution_count": 2,
   "metadata": {},
   "outputs": [],
   "source": [
    "# string to connect postgresql.\n",
    "connection_string = dialect + '://' + dbuser + ':' + psswd + '@' + host + ':' + str(port) + '/' + dbname\n",
    "# Connecting to database.\n",
    "engine = create_engine(connection_string)"
   ]
  },
  {
   "cell_type": "code",
   "execution_count": 3,
   "metadata": {},
   "outputs": [
    {
     "data": {
      "text/html": [
       "<div>\n",
       "<style scoped>\n",
       "    .dataframe tbody tr th:only-of-type {\n",
       "        vertical-align: middle;\n",
       "    }\n",
       "\n",
       "    .dataframe tbody tr th {\n",
       "        vertical-align: top;\n",
       "    }\n",
       "\n",
       "    .dataframe thead th {\n",
       "        text-align: right;\n",
       "    }\n",
       "</style>\n",
       "<table border=\"1\" class=\"dataframe\">\n",
       "  <thead>\n",
       "    <tr style=\"text-align: right;\">\n",
       "      <th></th>\n",
       "      <th>title</th>\n",
       "      <th>avg_salary</th>\n",
       "    </tr>\n",
       "  </thead>\n",
       "  <tbody>\n",
       "    <tr>\n",
       "      <th>0</th>\n",
       "      <td>Assistant Engineer</td>\n",
       "      <td>48493.20</td>\n",
       "    </tr>\n",
       "    <tr>\n",
       "      <th>1</th>\n",
       "      <td>Senior Engineer</td>\n",
       "      <td>48506.75</td>\n",
       "    </tr>\n",
       "    <tr>\n",
       "      <th>2</th>\n",
       "      <td>Engineer</td>\n",
       "      <td>48539.78</td>\n",
       "    </tr>\n",
       "    <tr>\n",
       "      <th>3</th>\n",
       "      <td>Technique Leader</td>\n",
       "      <td>48580.51</td>\n",
       "    </tr>\n",
       "    <tr>\n",
       "      <th>4</th>\n",
       "      <td>Manager</td>\n",
       "      <td>51531.04</td>\n",
       "    </tr>\n",
       "  </tbody>\n",
       "</table>\n",
       "</div>"
      ],
      "text/plain": [
       "                title  avg_salary\n",
       "0  Assistant Engineer    48493.20\n",
       "1     Senior Engineer    48506.75\n",
       "2            Engineer    48539.78\n",
       "3    Technique Leader    48580.51\n",
       "4             Manager    51531.04"
      ]
     },
     "execution_count": 3,
     "metadata": {},
     "output_type": "execute_result"
    }
   ],
   "source": [
    "# Query to get the average of salary by title.\n",
    "query = \"SELECT tit.title, ROUND(AVG(sal.salary),2) AS avg_salary \"   \n",
    "query +=\"FROM titles tit \"  \n",
    "query +=\"INNER JOIN salaries sal ON (tit.emp_no = sal.emp_no) \"  \n",
    "query +=\"GROUP BY tit.title \"\n",
    "query +=\"ORDER BY avg_salary\"\n",
    "df = pd.read_sql(query, engine)\n",
    "df.head()"
   ]
  },
  {
   "cell_type": "code",
   "execution_count": 4,
   "metadata": {},
   "outputs": [
    {
     "data": {
      "image/png": "[encoded data removed]",
      "text/plain": [
       "<Figure size 432x288 with 1 Axes>"
      ]
     },
     "metadata": {
      "needs_background": "light"
     },
     "output_type": "display_data"
    }
   ],
   "source": [
    "# Plot the bar chart of Average Salary X Title\n",
    "fig, ax = plt.subplots()\n",
    "rank = range(1, len(df['avg_salary'])+1)\n",
    "ax.barh(rank, df['avg_salary'], height=0.7)\n",
    "ax.set_xlabel(\"Salary $\")\n",
    "ax.set_ylabel(\"Title\")\n",
    "ax.set_yticks(rank)\n",
    "ax.set_yticklabels(df['title'])\n",
    "ax.set_xticklabels(['{:,.2f}'.format(int(x)) for x in ax.get_xticks().tolist()])\n",
    "ax.set_title(\"Average Salary\")\n",
    "plt.show()"
   ]
  }
 ],
 "metadata": {
  "kernelspec": {
   "display_name": "Python 3",
   "language": "python",
   "name": "python3"
  },
  "language_info": {
   "codemirror_mode": {
    "name": "ipython",
    "version": 3
   },
   "file_extension": ".py",
   "mimetype": "text/x-python",
   "name": "python",
   "nbconvert_exporter": "python",
   "pygments_lexer": "ipython3",
   "version": "3.7.3"
  }
 },
 "nbformat": 4,
 "nbformat_minor": 2
}
